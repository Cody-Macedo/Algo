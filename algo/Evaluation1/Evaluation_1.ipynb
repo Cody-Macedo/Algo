{
 "cells": [
  {
   "cell_type": "markdown",
   "metadata": {},
   "source": [
    "Ecrire une fonction en python qui demande un nombre à l'utilisateur et qui affiche le carré de\n",
    "ce nombre."
   ]
  },
  {
   "cell_type": "code",
   "execution_count": 3,
   "metadata": {},
   "outputs": [
    {
     "name": "stdout",
     "output_type": "stream",
     "text": [
      "16\n"
     ]
    }
   ],
   "source": [
    "def nbAuCarre(nb):\n",
    "    print(nb*nb)\n",
    "    \n",
    "nbAuCarre(4)"
   ]
  },
  {
   "cell_type": "markdown",
   "metadata": {},
   "source": [
    "Ecrire une fonction en python qui prend deux nombres et informe en suite si leur produit est\n",
    "négatif ou positif ou nul. Attention : il n'est pas nécessaire de renvoyer le produit des deux\n",
    "nombres. "
   ]
  },
  {
   "cell_type": "code",
   "execution_count": 37,
   "metadata": {},
   "outputs": [
    {
     "name": "stdout",
     "output_type": "stream",
     "text": [
      "-1\n",
      "2\n",
      "positif\n",
      "positif\n"
     ]
    }
   ],
   "source": [
    "def produitSigne(valA, valB):\n",
    "    if valA < 0 & valB < 0:\n",
    "        print(\"positif\")\n",
    "    elif valA < 0 & valB > 0:\n",
    "        print(\"negatif\")\n",
    "    elif valB < 0 & valA > 0:\n",
    "        print(\"negatif\")\n",
    "    else:\n",
    "        print(\"positif\")\n",
    "        \n",
    "produitSigne(-1,-2)"
   ]
  },
  {
   "cell_type": "markdown",
   "metadata": {},
   "source": [
    "Ecrire une fonction en python qui prend un nombre de départ disons k, et qui calcule la\n",
    "somme des entiers jusqu’à ce nombre, noté ∑ 𝑖\n",
    "௞ାଵ଴\n",
    "௜ୀ௞ . Par exemple, si k = 5, la fonction doit\n",
    "renvoyer : 15. "
   ]
  },
  {
   "cell_type": "code",
   "execution_count": 38,
   "metadata": {},
   "outputs": [
    {
     "data": {
      "text/plain": [
       "15"
      ]
     },
     "execution_count": 38,
     "metadata": {},
     "output_type": "execute_result"
    }
   ],
   "source": [
    "def sommeToNb(val):\n",
    "    valSomme = 0\n",
    "    for i in range(val+1):\n",
    "      valSomme = valSomme + i\n",
    "\n",
    "    return(valSomme)\n",
    "    \n",
    "sommeToNb(5)"
   ]
  },
  {
   "cell_type": "markdown",
   "metadata": {},
   "source": [
    "Ecrire un algorithme qui, à partir de deux tableaux précédemment saisis calcule le\n",
    "'FacProduct' des deux tableaux. Pour calculer le 'FacProduct', il faut multiplier chaque\n",
    "élément du tableau1 par chaque élément du tableau2, et additionner le tout.\n",
    "Par exemple, soient deux tableaux l1; l2, où l1 = [1; 2; 3] et l2 = [1; 2] l'algorithme doit\n",
    "renvoyer 18. "
   ]
  },
  {
   "cell_type": "code",
   "execution_count": 33,
   "metadata": {},
   "outputs": [
    {
     "name": "stdout",
     "output_type": "stream",
     "text": [
      "18\n"
     ]
    }
   ],
   "source": [
    "listeOne =  [1,2,3]\n",
    "listeTwo =  [1,2]\n",
    "\n",
    "facProduct = 0\n",
    "\n",
    "for i in range(0,len(listeOne)):\n",
    "    for j in range(0,len(listeTwo)):\n",
    "        facProduct += listeOne[i] * listeTwo[j]\n",
    "        \n",
    "print(facProduct)"
   ]
  },
  {
   "cell_type": "markdown",
   "metadata": {},
   "source": [
    "Ecrire un algorithme retournant le minimum d'un tableau donné. "
   ]
  },
  {
   "cell_type": "code",
   "execution_count": 36,
   "metadata": {},
   "outputs": [
    {
     "name": "stdout",
     "output_type": "stream",
     "text": [
      "1\n"
     ]
    }
   ],
   "source": [
    "listA =  [1,2,3]\n",
    "\n",
    "def minVal(listA):\n",
    "    min = listA[0]\n",
    "    for i in range(0,len(listA)):\n",
    "        if min > listA[i]:\n",
    "            min = listA[i]\n",
    "    print(min)\n",
    "    \n",
    "minVal(listA)"
   ]
  },
  {
   "cell_type": "markdown",
   "metadata": {},
   "source": [
    "Ecrire un algorithme triant un tableau donné par sélection. L'algorithme va commencer par\n",
    "chercher l'élément de plus petite valeur dans le tableau, on le place en tête du tableau et on\n",
    "recommence avec le tableau moins la première case. Vous pouvez notamment utiliser la\n",
    "fonction minimum dans l'exercice précédent. "
   ]
  },
  {
   "cell_type": "code",
   "execution_count": 39,
   "metadata": {},
   "outputs": [
    {
     "name": "stdout",
     "output_type": "stream",
     "text": [
      "[]\n",
      "[1, 2, 4]\n"
     ]
    }
   ],
   "source": [
    "liste = [4,2,1]\n",
    "listeOrder =  []\n",
    "N = len(liste)\n",
    "\n",
    "for _ in range(N):\n",
    "    min = liste[0]\n",
    "    index = 0\n",
    "    # print(min)\n",
    "    for j in range(len(liste)):\n",
    "    # print(\"j : \", j)\n",
    "        if liste[j] < min:\n",
    "            min = liste[j]\n",
    "            index = j\n",
    "      # print(\"index\" ,index)\n",
    "    del liste[index]\n",
    "    listeOrder.append(min)\n",
    "\n",
    "print(liste)\n",
    "print(listeOrder)"
   ]
  }
 ],
 "metadata": {
  "kernelspec": {
   "display_name": "Python 3",
   "language": "python",
   "name": "python3"
  },
  "language_info": {
   "codemirror_mode": {
    "name": "ipython",
    "version": 3
   },
   "file_extension": ".py",
   "mimetype": "text/x-python",
   "name": "python",
   "nbconvert_exporter": "python",
   "pygments_lexer": "ipython3",
   "version": "3.6.9"
  }
 },
 "nbformat": 4,
 "nbformat_minor": 4
}
