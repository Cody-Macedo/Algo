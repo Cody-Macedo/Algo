{
 "cells": [
  {
   "cell_type": "markdown",
   "metadata": {
    "id": "3DoyjqkKheba"
   },
   "source": [
    "#**Exos** "
   ]
  },
  {
   "cell_type": "code",
   "execution_count": 1,
   "metadata": {
    "colab": {
     "base_uri": "https://localhost:8080/",
     "height": 34
    },
    "id": "2n98hIGcJPN5",
    "outputId": "9cdd45e2-cf1e-4ed7-89ce-868565b70543"
   },
   "outputs": [
    {
     "name": "stdout",
     "output_type": "stream",
     "text": [
      "b a\n"
     ]
    }
   ],
   "source": [
    "a = \"a\" \n",
    "b = \"b\"\n",
    "c = a\n",
    "a = b\n",
    "b = c\n",
    "print ( a + \" \" + b)"
   ]
  },
  {
   "cell_type": "code",
   "execution_count": null,
   "metadata": {
    "colab": {
     "base_uri": "https://localhost:8080/",
     "height": 51
    },
    "id": "cFa0CyxUJUQM",
    "outputId": "c6338f86-2ab8-4b7f-a727-87f47269aaf5"
   },
   "outputs": [
    {
     "name": "stdout",
     "output_type": "stream",
     "text": [
      "3\n",
      "9\n"
     ]
    }
   ],
   "source": [
    "val = int(input()) \n",
    "val = val*val\n",
    "print(val)"
   ]
  },
  {
   "cell_type": "code",
   "execution_count": null,
   "metadata": {
    "colab": {
     "base_uri": "https://localhost:8080/",
     "height": 51
    },
    "id": "bLP3oywTSEQy",
    "outputId": "1d026152-8476-4f4a-f51a-3c2d1cfbbe85"
   },
   "outputs": [
    {
     "name": "stdout",
     "output_type": "stream",
     "text": [
      "-1\n",
      "val est négatif\n"
     ]
    }
   ],
   "source": [
    "val = int(input())\n",
    "if val < 0:\n",
    "  print(\"val est négatif\")\n",
    "else:\n",
    "  print(\"val est positif\")"
   ]
  },
  {
   "cell_type": "code",
   "execution_count": null,
   "metadata": {
    "colab": {
     "base_uri": "https://localhost:8080/",
     "height": 68
    },
    "id": "RZlcPWnKSl5b",
    "outputId": "b87ce96d-c89e-49a3-c3af-67fcc8fb4009"
   },
   "outputs": [
    {
     "name": "stdout",
     "output_type": "stream",
     "text": [
      "-2\n",
      "0\n",
      "positif\n"
     ]
    }
   ],
   "source": [
    "valA = int(input())\n",
    "valB = int(input())\n",
    "\n",
    "if valA < 0 & val < 0:\n",
    "  print(\"positif\")\n",
    "elif valA < 0 & valB > 0:\n",
    "  print(\"negatif\")\n",
    "elif valB < 0 & valA > 0:\n",
    "  print(\"negatif\")\n",
    "else:\n",
    "  print(\"positif\")"
   ]
  },
  {
   "cell_type": "code",
   "execution_count": null,
   "metadata": {
    "colab": {
     "base_uri": "https://localhost:8080/",
     "height": 204
    },
    "id": "MgX04tT-UzkZ",
    "outputId": "7de3b386-994a-4bb3-a7c6-0e4c37a2a3bc"
   },
   "outputs": [
    {
     "name": "stdout",
     "output_type": "stream",
     "text": [
      "1\n",
      "2\n",
      "3\n",
      "4\n",
      "5\n",
      "6\n",
      "7\n",
      "8\n",
      "9\n",
      "10\n",
      "11\n"
     ]
    }
   ],
   "source": [
    "val = int(input())\n",
    "\n",
    "for i in range(val, val+10):\n",
    "  print(val+i)"
   ]
  },
  {
   "cell_type": "code",
   "execution_count": null,
   "metadata": {
    "colab": {
     "base_uri": "https://localhost:8080/"
    },
    "id": "hyZndhpOVZSD",
    "outputId": "74ea1b27-91d0-487a-cc6f-4dfe23eb9381"
   },
   "outputs": [],
   "source": [
    "val = int(input())\n",
    "valSomme = 0\n",
    "for i in range(val+1):\n",
    "  valSomme = valSomme + i\n",
    "print(valSomme)"
   ]
  },
  {
   "cell_type": "code",
   "execution_count": null,
   "metadata": {},
   "outputs": [],
   "source": [
    "# **PARTIE 2**"
   ]
  },
  {
   "cell_type": "code",
   "execution_count": 13,
   "metadata": {},
   "outputs": [
    {
     "name": "stdout",
     "output_type": "stream",
     "text": [
      "[5, 3, 0]\n",
      "8\n"
     ]
    }
   ],
   "source": [
    "#2.1\n",
    "liste =  [randint(0,5) for _ in range(3)]\n",
    "print(liste)\n",
    "somme = 0\n",
    "for i in range(0,len(liste)):\n",
    "    somme += liste[i]\n",
    "    \n",
    "print(somme)"
   ]
  },
  {
   "cell_type": "code",
   "execution_count": 15,
   "metadata": {},
   "outputs": [
    {
     "name": "stdout",
     "output_type": "stream",
     "text": [
      "[4, 5, 5]\n",
      "[5, 3, 0]\n",
      "[9, 8, 5]\n"
     ]
    }
   ],
   "source": [
    "#2.2\n",
    "from random import randint\n",
    "\n",
    "listeOne =  [randint(0,5) for _ in range(3)]\n",
    "listeTwo =  [randint(0,5) for _ in range(3)]\n",
    "print(listeOne)\n",
    "print(listeTwo)\n",
    "\n",
    "listeSomme = []\n",
    "\n",
    "for i in range(0,len(listeOne)):\n",
    "    listeSomme.append(listeOne[i] + listeTwo[i]) \n",
    "    \n",
    "print(listeSomme)\n"
   ]
  },
  {
   "cell_type": "code",
   "execution_count": 10,
   "metadata": {},
   "outputs": [
    {
     "name": "stdout",
     "output_type": "stream",
     "text": [
      "[0, 1, 2]\n",
      "[1, 1, 2]\n",
      "7\n"
     ]
    }
   ],
   "source": [
    "#2.3\n",
    "from random import randint\n",
    "\n",
    "listeOne =  [randint(0,5) for _ in range(3)]\n",
    "listeTwo =  [randint(0,5) for _ in range(3)]\n",
    "print(listeOne)\n",
    "print(listeTwo)\n",
    "\n",
    "facProduct = 0\n",
    "\n",
    "for i in range(0,len(listeOne)):\n",
    "    facProduct += listeOne[i] + listeTwo[i]\n",
    "    \n",
    "print(facProduct)\n",
    "    \n",
    "\n"
   ]
  },
  {
   "cell_type": "code",
   "execution_count": 36,
   "metadata": {},
   "outputs": [
    {
     "name": "stdout",
     "output_type": "stream",
     "text": [
      "Entrez val: 2\n",
      "Entrez val: 3\n",
      "Entrez val: 4\n",
      "le max est :  4\n"
     ]
    }
   ],
   "source": [
    "#2.4\n",
    "liste = []\n",
    "for each in range(0,3):\n",
    "    var = int(input('Entrez val: '))\n",
    "    liste.append(var)\n",
    "    \n",
    "max = liste[0]\n",
    "for i in range(0, len(liste)): \n",
    "  if liste[i] > max :\n",
    "    max = liste[i]\n",
    "    \n",
    "print(\"le max est : \",max)\n"
   ]
  },
  {
   "cell_type": "code",
   "execution_count": null,
   "metadata": {},
   "outputs": [],
   "source": [
    "# **PARTIE 2**"
   ]
  },
  {
   "cell_type": "code",
   "execution_count": 38,
   "metadata": {},
   "outputs": [
    {
     "name": "stdout",
     "output_type": "stream",
     "text": [
      "val aplha : 10\n",
      "12367\n"
     ]
    }
   ],
   "source": [
    "#3.1\n",
    "alpha = int(input(\"val aplha : \"))\n",
    "n = 0\n",
    "i=0\n",
    "\n",
    "while n < alpha:\n",
    "    i += 1\n",
    "    n += 1/i\n",
    "    \n",
    "#print(n)\n",
    "print(i)"
   ]
  },
  {
   "cell_type": "code",
   "execution_count": 64,
   "metadata": {},
   "outputs": [
    {
     "name": "stdout",
     "output_type": "stream",
     "text": [
      "val x:  1  et pour val y:  0 \n",
      "\n",
      "val x:  3  et pour val y:  2 \n",
      "\n",
      "val x:  17  et pour val y:  12 \n",
      "\n",
      "val x:  99  et pour val y:  70 \n",
      "\n"
     ]
    }
   ],
   "source": [
    "#3.2\n",
    "rangeMax = 101\n",
    "\n",
    "for x in range(1, rangeMax):\n",
    "    for y in range (0,rangeMax):\n",
    "        if(x * x - 2 * y * y == 1):\n",
    "            print( \"val x: \", x , \" et pour val y: \", y ,\"\\n\")\n",
    "\n",
    "        \n"
   ]
  },
  {
   "cell_type": "code",
   "execution_count": 76,
   "metadata": {},
   "outputs": [
    {
     "name": "stdout",
     "output_type": "stream",
     "text": [
      "val a: 5\n",
      "val b: 2\n",
      "val c: 3\n",
      "5 2 3\n",
      "-56\n",
      "l'équation ax² + bx + c = 0 a une solutions\n",
      "-0.2\n"
     ]
    }
   ],
   "source": [
    "#3.3\n",
    "\n",
    "from math import *\n",
    "\n",
    "a = int(input(\"val a: \"))\n",
    "b = int(input(\"val b: \"))\n",
    "c = int(input(\"val c: \"))\n",
    "\n",
    "print(a,b,c)\n",
    "\n",
    "delta = b * b - 4 * a * c\n",
    "\n",
    "print(delta)\n",
    "\n",
    "if delta > 0:\n",
    "    print(\"l'équation ax² + bx + c = 0 a deux solutions\")\n",
    "    x1 = (- b - sqrt(delta)) / 2 * a\n",
    "    print(x1)\n",
    "    x2 = (- b + sqrt(delta)) / 2 * a\n",
    "    print(x2)\n",
    "elif delta < 0:\n",
    "    print(\"l'équation ax² + bx + c = 0 a une solutions\")\n",
    "    x = - ( b / ( 2 * a ))\n",
    "    print(x)\n",
    "else: \n",
    "    print(\"l'équation ax² + bx + c = 0 n'a pas de solution réel\")\n"
   ]
  },
  {
   "cell_type": "code",
   "execution_count": null,
   "metadata": {},
   "outputs": [],
   "source": []
  },
  {
   "cell_type": "markdown",
   "metadata": {
    "id": "oGIVytbjgS_j"
   },
   "source": [
    "# **Python Init**\n"
   ]
  },
  {
   "cell_type": "code",
   "execution_count": null,
   "metadata": {
    "colab": {
     "base_uri": "https://localhost:8080/",
     "height": 34
    },
    "id": "fNM5_LK_voMI",
    "outputId": "61a35fdf-f0d4-44fa-a1e2-2262c6c863f6",
    "scrolled": true
   },
   "outputs": [
    {
     "name": "stdout",
     "output_type": "stream",
     "text": [
      "MIN 15\n"
     ]
    }
   ],
   "source": [
    "print('MIN', min) #afficher valeur int"
   ]
  },
  {
   "cell_type": "markdown",
   "metadata": {
    "id": "HR_7EZoeiFQL"
   },
   "source": [
    "**Fonction**"
   ]
  },
  {
   "cell_type": "code",
   "execution_count": null,
   "metadata": {
    "colab": {
     "base_uri": "https://localhost:8080/",
     "height": 52
    },
    "id": "GkUjB-NfgYwk",
    "outputId": "d379b7af-34e9-4f77-e586-7b7c0f5b7449"
   },
   "outputs": [
    {
     "name": "stdout",
     "output_type": "stream",
     "text": [
      "Hello\n"
     ]
    },
    {
     "data": {
      "application/vnd.google.colaboratory.intrinsic+json": {
       "type": "string"
      },
      "text/plain": [
       "'Hello'"
      ]
     },
     "execution_count": 29,
     "metadata": {
      "tags": []
     },
     "output_type": "execute_result"
    }
   ],
   "source": [
    "def nomFunc(val):\n",
    "  print(val)\n",
    "  return val\n",
    "\n",
    "nomFunc(\"Hello\")"
   ]
  },
  {
   "cell_type": "code",
   "execution_count": null,
   "metadata": {
    "id": "6M1ZLFmXrjO6"
   },
   "outputs": [],
   "source": [
    "round() #pour arrondir"
   ]
  },
  {
   "cell_type": "markdown",
   "metadata": {
    "id": "MozPW3V-iCNn"
   },
   "source": [
    "**Pour demander une valeur d'entrer**\n",
    "\n"
   ]
  },
  {
   "cell_type": "code",
   "execution_count": null,
   "metadata": {
    "id": "99Bx1tkBoo47"
   },
   "outputs": [],
   "source": [
    "var = input()\n",
    "var = int(input())"
   ]
  },
  {
   "cell_type": "markdown",
   "metadata": {
    "id": "0dO6UeYso7X9"
   },
   "source": [
    "\n",
    "**conversion de string vers int / float / etc**\n",
    "\n",
    "\n",
    "\n",
    "\n"
   ]
  },
  {
   "cell_type": "code",
   "execution_count": null,
   "metadata": {
    "id": "dWnlV7GJpEfS"
   },
   "outputs": [],
   "source": [
    "var = int()\n",
    "var = float()"
   ]
  },
  {
   "cell_type": "markdown",
   "metadata": {
    "id": "s25zcuqjp3-f"
   },
   "source": [
    "**afficher le type d'une *var***"
   ]
  },
  {
   "cell_type": "code",
   "execution_count": null,
   "metadata": {
    "id": "qh8DJiyxp6ib"
   },
   "outputs": [],
   "source": [
    "val = \"a\" #str\n",
    "print(type(val))"
   ]
  },
  {
   "cell_type": "markdown",
   "metadata": {
    "id": "tMtpUYGiK_sE"
   },
   "source": [
    "# **Python List**\n"
   ]
  },
  {
   "cell_type": "code",
   "execution_count": null,
   "metadata": {
    "id": "rlxqKlS1LKY2"
   },
   "outputs": [],
   "source": [
    "from random import randint"
   ]
  },
  {
   "cell_type": "code",
   "execution_count": null,
   "metadata": {
    "colab": {
     "base_uri": "https://localhost:8080/",
     "height": 34
    },
    "id": "EQQ6avETMWWh",
    "outputId": "182dcd23-eb81-49bb-d118-15efd77581ac"
   },
   "outputs": [
    {
     "data": {
      "text/plain": [
       "20"
      ]
     },
     "execution_count": 5,
     "metadata": {
      "tags": []
     },
     "output_type": "execute_result"
    }
   ],
   "source": [
    "liste = [1,2,3]\n",
    "randint(10,20) # randint random nb from n to n"
   ]
  },
  {
   "cell_type": "code",
   "execution_count": null,
   "metadata": {
    "colab": {
     "base_uri": "https://localhost:8080/",
     "height": 67
    },
    "id": "MYOKT4rUMlse",
    "outputId": "7d917b9a-16da-4c0a-93e0-271115abe963"
   },
   "outputs": [
    {
     "name": "stdout",
     "output_type": "stream",
     "text": [
      "res: a\n",
      "res: b\n",
      "res: c\n"
     ]
    }
   ],
   "source": [
    "#boucle for objet\n",
    "liste = ['a','b','c']\n",
    "\n",
    "for valList in liste: \n",
    "  print('res: ' + valList)\n",
    "\n"
   ]
  },
  {
   "cell_type": "code",
   "execution_count": null,
   "metadata": {
    "colab": {
     "base_uri": "https://localhost:8080/",
     "height": 50
    },
    "id": "ackrWVqxMxsT",
    "outputId": "85de738e-6ca2-4028-83dc-16962dc7e83f"
   },
   "outputs": [
    {
     "name": "stdout",
     "output_type": "stream",
     "text": [
      "1\n",
      "2\n"
     ]
    }
   ],
   "source": [
    "#boucle for iteration\n",
    "liste = [2,3,1]\n",
    "min = liste[0]\n",
    "for i in range(0, len(liste)): \n",
    "  if liste[i] < min:\n",
    "    min = liste[i]\n",
    "    minIndex = i\n",
    "print(min)\n",
    "print(minIndex)\n"
   ]
  },
  {
   "cell_type": "code",
   "execution_count": null,
   "metadata": {
    "colab": {
     "base_uri": "https://localhost:8080/",
     "height": 50
    },
    "id": "f_dMmoulOFBY",
    "outputId": "c8c906d5-0970-484d-8450-ad03ad9bc4cf"
   },
   "outputs": [
    {
     "name": "stdout",
     "output_type": "stream",
     "text": [
      "[10, 17, 18]\n",
      "10\n"
     ]
    }
   ],
   "source": [
    "#boucle for each\n",
    "liste =  [randint(10,20),randint(10,20),randint(10,20)]\n",
    "print(liste)\n",
    "min = liste[0]\n",
    "for each in liste:\n",
    "    if each < min:\n",
    "      min = each\n",
    "print(min)\n",
    "\n"
   ]
  },
  {
   "cell_type": "code",
   "execution_count": null,
   "metadata": {
    "colab": {
     "base_uri": "https://localhost:8080/",
     "height": 302
    },
    "id": "V7q8FXjgPmR0",
    "outputId": "1c789cdb-f144-41cf-d40b-a0a2fb589aea"
   },
   "outputs": [
    {
     "name": "stdout",
     "output_type": "stream",
     "text": [
      "[16, 17, 15]\n",
      "min is : 16\n",
      "min : 15\n",
      "min Ind : 2\n",
      "before : [16, 17, 15]\n",
      "after : [16, 17]\n",
      "\n",
      "min is : 16\n",
      "before : [16, 17]\n",
      "after : [17]\n",
      "\n",
      "min is : 17\n",
      "before : [17]\n",
      "after : []\n",
      "\n",
      "liste should be deleted[]\n",
      "[15, 16, 17]\n"
     ]
    }
   ],
   "source": [
    "liste =  [randint(10,20) for _ in range(3)]\n",
    "print(liste)\n",
    "listeOrder =  []\n",
    "\n",
    "for _ in range(len(liste)):\n",
    "  min = liste[0]\n",
    "  minIndex = 0 #l'erreur #si min est déjà plus petit alors minIndex = 0\n",
    "  print(\"min is : \" + str(min))\n",
    "  for j in range(len(liste)):\n",
    "    if liste[j] < min :\n",
    "      min = liste[j] \n",
    "      print(\"min : \" + str(min))\n",
    "      minIndex = j\n",
    "      print(\"min Ind : \" + str(minIndex))\n",
    "  listeOrder.append(min)\n",
    "  print(\"before : \" + str(liste))\n",
    "  del liste[minIndex]\n",
    "  print(\"after : \" + str(liste))\n",
    "  print(\"\")\n",
    "\n",
    "\n",
    "print(\"liste should be deleted\" + str(liste))      \n",
    "print(listeOrder)\n"
   ]
  },
  {
   "cell_type": "code",
   "execution_count": null,
   "metadata": {
    "colab": {
     "base_uri": "https://localhost:8080/",
     "height": 67
    },
    "id": "asmpRpeKYobX",
    "outputId": "9eec6510-e078-4fb9-ea90-3cfa9508956e"
   },
   "outputs": [
    {
     "name": "stdout",
     "output_type": "stream",
     "text": [
      "[207, 212, 985, 227]\n",
      "[]\n",
      "[207, 212, 227, 985]\n"
     ]
    }
   ],
   "source": [
    "liste =  [randint(1,1000) for _ in range(4)]\n",
    "print(liste)\n",
    "listeOrder =  []\n",
    "N = len(liste)\n",
    "\n",
    "for _ in range(N):\n",
    "  min = liste[0]\n",
    "  index = 0\n",
    "  # print(min)\n",
    "  for j in range(len(liste)):\n",
    "    # print(\"j : \", j)\n",
    "    if liste[j] < min:\n",
    "      min = liste[j]\n",
    "      index = j\n",
    "      # print(\"index\" ,index)\n",
    "  del liste[index]\n",
    "  listeOrder.append(min)\n",
    "\n",
    "print(liste)\n",
    "print(listeOrder)\n"
   ]
  },
  {
   "cell_type": "code",
   "execution_count": null,
   "metadata": {
    "colab": {
     "base_uri": "https://localhost:8080/",
     "height": 50
    },
    "id": "DCzWgmpgWI67",
    "outputId": "a2c4e6d8-9c9d-43bb-bdba-799da9bd9c1e"
   },
   "outputs": [
    {
     "name": "stdout",
     "output_type": "stream",
     "text": [
      "0 16\n",
      "1 15\n"
     ]
    }
   ],
   "source": [
    "#list with enumarate affiche l'index\n",
    "liste =  [randint(10,20) for _ in range(2)]\n",
    "for i , elem in enumerate(liste):\n",
    "  print(i,elem) "
   ]
  },
  {
   "cell_type": "code",
   "execution_count": null,
   "metadata": {
    "colab": {
     "base_uri": "https://localhost:8080/",
     "height": 34
    },
    "id": "TGxyPXxpXMO2",
    "outputId": "c1fb88b7-099d-44e2-b270-6b3902f8cdf1"
   },
   "outputs": [
    {
     "name": "stdout",
     "output_type": "stream",
     "text": [
      "liste non vide\n"
     ]
    }
   ],
   "source": [
    "liste_vide = []\n",
    "if liste:\n",
    "  print('liste non vide')\n",
    "if not liste:\n",
    "  print('liste vide')"
   ]
  },
  {
   "cell_type": "markdown",
   "metadata": {
    "id": "B1eUtEBBvC7z"
   },
   "source": [
    "# **Python Sort**"
   ]
  },
  {
   "cell_type": "markdown",
   "metadata": {
    "id": "QUi_WyFYu39l"
   },
   "source": [
    "![insertionsort.png](data:image/png;base64,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)"
   ]
  },
  {
   "cell_type": "code",
   "execution_count": null,
   "metadata": {
    "colab": {
     "base_uri": "https://localhost:8080/",
     "height": 118
    },
    "id": "so8fIedARq-L",
    "outputId": "4fbc2fc5-f64f-4ee2-e967-613fb3e11203"
   },
   "outputs": [
    {
     "name": "stdout",
     "output_type": "stream",
     "text": [
      "[16, 20, 19, 13]\n",
      "[16, 19, 20, 13]\n",
      "[16, 19, 13, 20]\n",
      "[16, 13, 19, 20]\n",
      "[13, 16, 19, 20]\n",
      "[13, 16, 19, 20]\n"
     ]
    }
   ],
   "source": [
    "#insertion sort\n",
    "\n",
    "liste =  [randint(1,20) for _ in range(4)]\n",
    "print(liste)\n",
    "for i in range(1, len(liste)):\n",
    "  j = i\n",
    "  while j!=0 and liste[j-1] > liste[j]:\n",
    "    tmp = liste[j]\n",
    "    liste[j] = liste[j-1]\n",
    "    liste[j-1] = tmp\n",
    "    j=j-1\n",
    "    print(liste)\n",
    "\n",
    "print(liste)\n",
    "\n"
   ]
  },
  {
   "cell_type": "markdown",
   "metadata": {
    "id": "xUiFwhNjy0yl"
   },
   "source": [
    "![téléchargement.png](data:image/png;base64,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)"
   ]
  },
  {
   "cell_type": "markdown",
   "metadata": {
    "id": "xfXGMP4PzA-v"
   },
   "source": [
    "Je découpe ma liste en sous liste jusqu'à obtenir un ensemble de liste de taille 1\n",
    "Pour chaque pair de sous liste 2 à 2 tant que les deux sous listes ne sont pas vides\n",
    "Je compare entre eux les premiers éléments de sous listes et déplace le plus petit des \n",
    "\n",
    "Je répète le processus tant que je n'ai pas qu'une liste"
   ]
  },
  {
   "cell_type": "code",
   "execution_count": null,
   "metadata": {
    "id": "C4zb1uExXfob"
   },
   "outputs": [],
   "source": [
    "# merge sort\n"
   ]
  }
 ],
 "metadata": {
  "colab": {
   "collapsed_sections": [
    "oGIVytbjgS_j",
    "tMtpUYGiK_sE"
   ],
   "name": "Python#1",
   "provenance": []
  },
  "kernelspec": {
   "display_name": "Python 3",
   "language": "python",
   "name": "python3"
  },
  "language_info": {
   "codemirror_mode": {
    "name": "ipython",
    "version": 3
   },
   "file_extension": ".py",
   "mimetype": "text/x-python",
   "name": "python",
   "nbconvert_exporter": "python",
   "pygments_lexer": "ipython3",
   "version": "3.6.9"
  }
 },
 "nbformat": 4,
 "nbformat_minor": 1
}
