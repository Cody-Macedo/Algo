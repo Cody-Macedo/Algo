{
 "cells": [
  {
   "cell_type": "markdown",
   "metadata": {},
   "source": [
    "# Exercice POO"
   ]
  },
  {
   "cell_type": "code",
   "execution_count": 18,
   "metadata": {},
   "outputs": [
    {
     "name": "stdout",
     "output_type": "stream",
     "text": [
      "le solde du compte bancaire de  Duchmol  est de 950\n",
      "le solde du compte bancaire de  Dupont  est de 1025\n"
     ]
    }
   ],
   "source": [
    "class CompteBancaire():\n",
    "    \n",
    "    def __init__(self,name=\"Dupont\", solde=1000):\n",
    "        self.name = name\n",
    "        self.solde = solde\n",
    "    \n",
    "    def depot(self, nbDepot):\n",
    "        self.solde += nbDepot\n",
    "    \n",
    "    def retrait(self, nbRetrait):\n",
    "        self.solde -= nbRetrait\n",
    "        \n",
    "    def affiche(self):\n",
    "        print(\"le solde du compte bancaire de \", self.name, \" est de\", self.solde)\n",
    "        \n",
    "compte1 = CompteBancaire(\"Duchmol\", 800)\n",
    "compte1.depot(350)\n",
    "compte1.retrait(200)\n",
    "compte1.affiche()\n",
    "\n",
    "compte2 = CompteBancaire()\n",
    "compte2.depot(25)\n",
    "compte2.affiche()"
   ]
  },
  {
   "cell_type": "code",
   "execution_count": 29,
   "metadata": {},
   "outputs": [
    {
     "name": "stdout",
     "output_type": "stream",
     "text": [
      "P( 2 3 )\n",
      "P( 2 3 1 )\n"
     ]
    }
   ],
   "source": [
    "class Point():\n",
    "    \n",
    "    def __init__(self,x,y,z=None):\n",
    "        self.x = x\n",
    "        self.y = y\n",
    "        self.z = z\n",
    "\n",
    "        \n",
    "    def ToString(self):\n",
    "        if self.z!=None:\n",
    "            print(\"P(\",self.x, self.y,  self.z ,\")\")\n",
    "        else:\n",
    "            print(\"P(\",self.x, self.y,\")\")\n",
    "\n",
    "\n",
    "P1=Point(2,3)\n",
    "P1.ToString()\n",
    "P1=Point(2,3,1)\n",
    "P1.ToString()"
   ]
  },
  {
   "cell_type": "code",
   "execution_count": 86,
   "metadata": {},
   "outputs": [
    {
     "name": "stdout",
     "output_type": "stream",
     "text": [
      " Nom: Ilyass \n",
      " Prénom: Math \n",
      " Date de naissance: 01/07/1982\n",
      " Nom: Ilyass \n",
      " Prénom: Math \n",
      " Date de naissance: 01/07/1985\n",
      "Salaire: 7865.548\n",
      " Nom: Ilyass \n",
      " Prénom: Math \n",
      " Date de naissance: 01/07/1988\n",
      "Salaire: 7865.548\n",
      "Service: Ressource humaine\n"
     ]
    }
   ],
   "source": [
    "class DateNaissance:\n",
    "    def __init__(self, jour, mois, annee):\n",
    "        self.jour = jour\n",
    "        self.mois = mois\n",
    "        self.annee = annee\n",
    "        \n",
    "    def ToString(self):\n",
    "        return \"%02d/%02d/%02d\" % (self.jour,self.mois,self.annee)\n",
    "\n",
    "class Personne:\n",
    "\n",
    "    def __init__(self, nom, prenom, ddn):\n",
    "        self.nom = nom\n",
    "        self.prenom = prenom\n",
    "        self.ddn = ddn\n",
    "        \n",
    "    def afficher(self):\n",
    "        print(\" Nom:\", self.nom, \"\\n\",\n",
    "              \"Prénom:\" , self.prenom, \"\\n\",\n",
    "              \"Date de naissance:\",self.ddn\n",
    ")\n",
    "        \n",
    "class Employe(Personne):\n",
    "\n",
    "    def __init__(self,nom,prenom,ddn, salaire):\n",
    "        Personne.__init__(self,nom,prenom,ddn)\n",
    "        self.salaire = salaire\n",
    "\n",
    "    def afficher(self):\n",
    "        Personne.afficher(self) \n",
    "        print(\"Salaire:\" , self.salaire)\n",
    "        \n",
    "class Chef(Employe):\n",
    "\n",
    "    def __init__(self ,nom,prenom,ddn, salaire,service):\n",
    "        Employe.__init__(self ,nom,prenom,ddn, salaire)\n",
    "        self.service = service\n",
    "\n",
    "    def afficher(self):\n",
    "        Employe.afficher(self) \n",
    "        print(\"Service:\" , self.service)\n",
    "\n",
    "P=Personne(\"Ilyass\",\"Math\",DateNaissance(1,7,1982).ToString())\n",
    "P.afficher()\n",
    "\n",
    "E=Employe(\"Ilyass\",\"Math\",DateNaissance(1,7,1985).ToString(),7865.548)\n",
    "E.afficher()\n",
    "\n",
    "Ch=Chef(\"Ilyass\",\"Math\",DateNaissance(1,7,1988).ToString(),7865.548,\"Ressource humaine\")\n",
    "Ch.afficher()\n"
   ]
  },
  {
   "cell_type": "code",
   "execution_count": 137,
   "metadata": {
    "scrolled": true
   },
   "outputs": [
    {
     "name": "stdout",
     "output_type": "stream",
     "text": [
      "Lettre\n",
      "Adresse destination:  Lille\n",
      "Adresse expedition:  Paris\n",
      "Poids: 80  grammes\n",
      "Mode: normal\n",
      "Prix du timbre: 0.2\n",
      "\n",
      "\n",
      "Colis\n",
      "Adresse destination:  Marrakeche\n",
      "Adresse expedition:  Barcelone\n",
      "Poids: 3500  grammes\n",
      "Mode: expresse\n",
      "Volume: 2.25 litres\n",
      "Prix du timbre: 3.9375\n"
     ]
    }
   ],
   "source": [
    "class Courrier():\n",
    "    def __init__(self,poids, typeExpedition, adresseDest, adresseExp):\n",
    "        self.poids = poids\n",
    "        self.typeExpedition = typeExpedition\n",
    "        self.adresseDest = adresseDest\n",
    "        self.adresseExp = adresseExp\n",
    "   \n",
    "    def ToString(self):\n",
    "        print(\"Adresse destination: \" , self.adresseDest)\n",
    "        print(\"Adresse expedition: \",self.adresseExp)\n",
    "        print(\"Poids:\", self.poids,\" grammes\")\n",
    "        print(\"Mode:\", self.typeExpedition)\n",
    "\n",
    "class Lettre(Courrier):\n",
    "    \n",
    "    def __init__(self,poids, typeExpedition, adresseDest, adresseExp, format):\n",
    "        Courrier.__init__(self,poids, typeExpedition, adresseDest, adresseExp)\n",
    "        self.format = format\n",
    "        \n",
    "    def ToString(self):\n",
    "        print(\"Lettre\")\n",
    "        Courrier.ToString(self)\n",
    "        print(\"Prix du timbre:\" , self.calculTimbre())\n",
    "\n",
    "    def calculTimbre(self):\n",
    "        tarifA4 = 2.50\n",
    "        tarifA3 = 3.50\n",
    "        if(self.format == \"A4\"):\n",
    "            montant = tarifA4 * 1.0 * (self.poids/1000)\n",
    "        else:\n",
    "            montant = tarifA3 * (self.poids/1000)\n",
    "        \n",
    "        if(self.typeExpedition != \"normal\"):\n",
    "            montant *= 2\n",
    "        \n",
    "        return montant\n",
    "        \n",
    "class Colis(Courrier):\n",
    "    def __init__(self,poids, typeExpedition, adresseDest, adresseExp, volume):\n",
    "        Courrier.__init__(self,poids, typeExpedition, adresseDest, adresseExp)\n",
    "        self.volume = volume\n",
    "        \n",
    "    def ToString(self):\n",
    "        print(\"Colis\")\n",
    "        Courrier.ToString(self)\n",
    "        print(\"Volume:\", self.volume ,\"litres\")\n",
    "        print(\"Prix du timbre:\" , self.calculTimbre())\n",
    "\n",
    "    def calculTimbre(self):\n",
    "        montant = 0.25 * self.volume * (self.poids/1000)\n",
    "        if(self.typeExpedition != \"normal\"):\n",
    "            montant *= 2\n",
    "            \n",
    "        return montant\n",
    "        \n",
    "L1=Lettre(80, \"normal\" ,\"Lille\",\"Paris\",\"A4\")\n",
    "L1.ToString()\n",
    "print(\"\\n\")\n",
    "C1=Colis(3500,\"expresse\", \"Marrakeche\",\"Barcelone\",2.25)\n",
    "C1.ToString()\n"
   ]
  },
  {
   "cell_type": "code",
   "execution_count": null,
   "metadata": {},
   "outputs": [],
   "source": []
  }
 ],
 "metadata": {
  "kernelspec": {
   "display_name": "Python 3",
   "language": "python",
   "name": "python3"
  },
  "language_info": {
   "codemirror_mode": {
    "name": "ipython",
    "version": 3
   },
   "file_extension": ".py",
   "mimetype": "text/x-python",
   "name": "python",
   "nbconvert_exporter": "python",
   "pygments_lexer": "ipython3",
   "version": "3.6.9"
  }
 },
 "nbformat": 4,
 "nbformat_minor": 4
}
