{
 "cells": [
  {
   "cell_type": "markdown",
   "metadata": {},
   "source": [
    "# Numpy exercices pratiques\n",
    "Ce notebook à pour objectif de vous faire pratiquer numpy dans toute sa généralité. \n",
    "Vous avez donc une liste de questions à faire ! Il ne faut pas hésiter à faire des recherches sur google ainsi que voir la [documentation officielle](https://docs.scipy.org/doc/numpy-1.13.0/reference/). "
   ]
  },
  {
   "cell_type": "markdown",
   "metadata": {},
   "source": [
    "#### Q1 : Importer le package numpy "
   ]
  },
  {
   "cell_type": "code",
   "execution_count": 2,
   "metadata": {},
   "outputs": [],
   "source": [
    "import numpy as np"
   ]
  },
  {
   "cell_type": "markdown",
   "metadata": {},
   "source": [
    "#### Q2 : Afficher la version de numpy et la configuration "
   ]
  },
  {
   "cell_type": "code",
   "execution_count": 7,
   "metadata": {},
   "outputs": [
    {
     "data": {
      "text/plain": [
       "'1.19.2'"
      ]
     },
     "execution_count": 7,
     "metadata": {},
     "output_type": "execute_result"
    }
   ],
   "source": [
    "np.version.version"
   ]
  },
  {
   "cell_type": "markdown",
   "metadata": {},
   "source": [
    "#### Q3 : Créer un vecteur nul de taille 10"
   ]
  },
  {
   "cell_type": "code",
   "execution_count": 69,
   "metadata": {
    "scrolled": true
   },
   "outputs": [
    {
     "data": {
      "text/plain": [
       "array([0., 0., 0., 0., 0., 0., 0., 0., 0., 0.])"
      ]
     },
     "execution_count": 69,
     "metadata": {},
     "output_type": "execute_result"
    }
   ],
   "source": [
    "np.zeros(10)"
   ]
  },
  {
   "cell_type": "markdown",
   "metadata": {},
   "source": [
    "#### Q4 : Créer un vecteur null de taille 10 et affecter la valeur 1 à la 4ème place (index 4) du vecteur"
   ]
  },
  {
   "cell_type": "code",
   "execution_count": 71,
   "metadata": {},
   "outputs": [
    {
     "data": {
      "text/plain": [
       "array([0., 0., 0., 0., 1., 0., 0., 0., 0., 0.])"
      ]
     },
     "execution_count": 71,
     "metadata": {},
     "output_type": "execute_result"
    }
   ],
   "source": [
    "m = np.zeros(10)\n",
    "m[4] = 1\n",
    "m"
   ]
  },
  {
   "cell_type": "markdown",
   "metadata": {},
   "source": [
    "#### Q5 : Créer un vecteur Z de 40 valeurs allant de 10 à 50 "
   ]
  },
  {
   "cell_type": "code",
   "execution_count": 27,
   "metadata": {},
   "outputs": [
    {
     "data": {
      "text/plain": [
       "array([10, 11, 12, 13, 14, 15, 16, 17, 18, 19, 20, 21, 22, 23, 24, 25, 26,\n",
       "       27, 28, 29, 30, 31, 32, 33, 34, 35, 36, 37, 38, 39, 40, 41, 42, 43,\n",
       "       44, 45, 46, 47, 48, 49])"
      ]
     },
     "execution_count": 27,
     "metadata": {},
     "output_type": "execute_result"
    }
   ],
   "source": [
    "np.arange(10,50,1)"
   ]
  },
  {
   "cell_type": "markdown",
   "metadata": {},
   "source": [
    "#### Q6 : Inverser Z (le premier élément devient donc le dernier)"
   ]
  },
  {
   "cell_type": "code",
   "execution_count": 26,
   "metadata": {},
   "outputs": [
    {
     "data": {
      "text/plain": [
       "array([49, 48, 47, 46, 45, 44, 43, 42, 41, 40, 39, 38, 37, 36, 35, 34, 33,\n",
       "       32, 31, 30, 29, 28, 27, 26, 25, 24, 23, 22, 21, 20, 19, 18, 17, 16,\n",
       "       15, 14, 13, 12, 11, 10])"
      ]
     },
     "execution_count": 26,
     "metadata": {},
     "output_type": "execute_result"
    }
   ],
   "source": [
    "mz = np.arange(10,50,1)\n",
    "mz[::-1]"
   ]
  },
  {
   "cell_type": "markdown",
   "metadata": {},
   "source": [
    "#### Q7 : Créer une matrice 3x3 avec des valeurs comprise entre 0 et 8 "
   ]
  },
  {
   "cell_type": "code",
   "execution_count": 33,
   "metadata": {},
   "outputs": [
    {
     "data": {
      "text/plain": [
       "array([[0, 1, 2],\n",
       "       [3, 4, 5],\n",
       "       [6, 7, 8]])"
      ]
     },
     "execution_count": 33,
     "metadata": {},
     "output_type": "execute_result"
    }
   ],
   "source": [
    "m3 = np.arange(9).reshape(3,3);\n",
    "m3"
   ]
  },
  {
   "cell_type": "markdown",
   "metadata": {},
   "source": [
    "#### Q8 : Créer une matrice identié 3x3 "
   ]
  },
  {
   "cell_type": "code",
   "execution_count": 53,
   "metadata": {},
   "outputs": [
    {
     "data": {
      "text/plain": [
       "array([[1., 0., 0.],\n",
       "       [0., 1., 0.],\n",
       "       [0., 0., 1.]])"
      ]
     },
     "execution_count": 53,
     "metadata": {},
     "output_type": "execute_result"
    }
   ],
   "source": [
    "np.eye(3, 3, 0)\n"
   ]
  },
  {
   "cell_type": "markdown",
   "metadata": {},
   "source": [
    "#### Q9 : Créer une matrice 3x3x3 avec des valeurs random "
   ]
  },
  {
   "cell_type": "code",
   "execution_count": 74,
   "metadata": {},
   "outputs": [
    {
     "name": "stdout",
     "output_type": "stream",
     "text": [
      "[[[3 2 3]\n",
      "  [1 1 6]\n",
      "  [0 1 0]]\n",
      "\n",
      " [[9 4 8]\n",
      "  [8 0 7]\n",
      "  [4 3 8]]\n",
      "\n",
      " [[4 9 1]\n",
      "  [2 2 0]\n",
      "  [2 8 1]]]\n",
      "[[[0.13667774 0.09966517 0.77397125]\n",
      "  [0.53988545 0.97543556 0.63456812]\n",
      "  [0.95037455 0.55089457 0.93382919]]\n",
      "\n",
      " [[0.96999833 0.00357126 0.23373699]\n",
      "  [0.10877029 0.48577332 0.05266446]\n",
      "  [0.17523527 0.9732747  0.67612119]]\n",
      "\n",
      " [[0.53083933 0.08292186 0.03160468]\n",
      "  [0.06721173 0.13951132 0.33645079]\n",
      "  [0.94267944 0.5493999  0.55388377]]]\n"
     ]
    }
   ],
   "source": [
    "m = np.random.randint(10, size=(3,3,3))\n",
    "print(m)\n",
    "m = np.random.rand(3,3,3)\n",
    "print(m)"
   ]
  },
  {
   "cell_type": "markdown",
   "metadata": {},
   "source": [
    "#### Q10 : Créer une matrice 10x10 avec des valeurs random et afficher le minimum et maximum de cette matrice"
   ]
  },
  {
   "cell_type": "code",
   "execution_count": 46,
   "metadata": {},
   "outputs": [
    {
     "name": "stdout",
     "output_type": "stream",
     "text": [
      "[[7 3 5]\n",
      " [4 7 3]\n",
      " [8 8 3]]\n"
     ]
    },
    {
     "data": {
      "text/plain": [
       "(3, 8)"
      ]
     },
     "execution_count": 46,
     "metadata": {},
     "output_type": "execute_result"
    }
   ],
   "source": [
    "m = np.random.randint(10, size=(3,3))\n",
    "print(m)\n",
    "m.min(), m.max()"
   ]
  },
  {
   "cell_type": "markdown",
   "metadata": {},
   "source": [
    "#### Q11 : Créer une matrice 5x5 avec les valeurs 1,2,3,4 en dessous de la diagonale "
   ]
  },
  {
   "cell_type": "code",
   "execution_count": 57,
   "metadata": {},
   "outputs": [
    {
     "data": {
      "text/plain": [
       "array([[0, 0, 0, 0, 0],\n",
       "       [1, 0, 0, 0, 0],\n",
       "       [0, 2, 0, 0, 0],\n",
       "       [0, 0, 3, 0, 0],\n",
       "       [0, 0, 0, 4, 0]])"
      ]
     },
     "execution_count": 57,
     "metadata": {},
     "output_type": "execute_result"
    }
   ],
   "source": [
    "np.diag(np.array([1,2,3,4]),-1)# à faire"
   ]
  },
  {
   "cell_type": "markdown",
   "metadata": {},
   "source": [
    "#### Q12 : Créer une liste random de taille 5 et donner la somme de ses éléments  "
   ]
  },
  {
   "cell_type": "code",
   "execution_count": 66,
   "metadata": {},
   "outputs": [
    {
     "name": "stdout",
     "output_type": "stream",
     "text": [
      "[5 4 1 3 3]\n"
     ]
    },
    {
     "data": {
      "text/plain": [
       "16"
      ]
     },
     "execution_count": 66,
     "metadata": {},
     "output_type": "execute_result"
    }
   ],
   "source": [
    "m = np.random.randint(0,10, 5)\n",
    "print(m)\n",
    "m.sum()"
   ]
  },
  {
   "cell_type": "markdown",
   "metadata": {},
   "source": [
    "#### Q13 : Créer une liste random de taille 5 et donner la moyenne de ses éléments"
   ]
  },
  {
   "cell_type": "code",
   "execution_count": 67,
   "metadata": {},
   "outputs": [
    {
     "data": {
      "text/plain": [
       "3.2"
      ]
     },
     "execution_count": 67,
     "metadata": {},
     "output_type": "execute_result"
    }
   ],
   "source": [
    "m.mean()"
   ]
  },
  {
   "cell_type": "markdown",
   "metadata": {},
   "source": [
    "#### Q14 : En utilisant une fonction, donner la taille de la liste suivante :\n",
    "```python \n",
    "l = [x for x in range(11)]\n",
    "```"
   ]
  },
  {
   "cell_type": "code",
   "execution_count": 137,
   "metadata": {},
   "outputs": [
    {
     "data": {
      "text/plain": [
       "11"
      ]
     },
     "execution_count": 137,
     "metadata": {},
     "output_type": "execute_result"
    }
   ],
   "source": [
    "l = [x for x in range(11)]\n",
    "np.size(l)"
   ]
  },
  {
   "cell_type": "markdown",
   "metadata": {},
   "source": [
    "#### Q15 : Créer un tableau de taille 10 avec des valeurs comprises entre 0 et 1 EXCLUS "
   ]
  },
  {
   "cell_type": "code",
   "execution_count": 142,
   "metadata": {},
   "outputs": [
    {
     "name": "stdout",
     "output_type": "stream",
     "text": [
      "[0.09090909 0.18181818 0.27272727 0.36363636 0.45454545 0.54545455\n",
      " 0.63636364 0.72727273 0.81818182 0.90909091]\n"
     ]
    }
   ],
   "source": [
    "# m = np.random.ranf(4)\n",
    "# m\n",
    "m = np.linspace(0,1,11,False)[1:]\n",
    "print(m)"
   ]
  },
  {
   "cell_type": "markdown",
   "metadata": {},
   "source": [
    "#### Q16 : Soit deux tableau A et B de dimension 1 et de taille 5, créer A et B et afficher True si A et B sont égaux False sinon"
   ]
  },
  {
   "cell_type": "code",
   "execution_count": 148,
   "metadata": {},
   "outputs": [
    {
     "name": "stdout",
     "output_type": "stream",
     "text": [
      "[0.37912518 0.76537152 0.97635717 0.57893275 0.10585976]\n",
      "[0.23478857 0.11173504 0.63623676 0.87648204 0.47222147]\n"
     ]
    },
    {
     "data": {
      "text/plain": [
       "True"
      ]
     },
     "execution_count": 148,
     "metadata": {},
     "output_type": "execute_result"
    }
   ],
   "source": [
    "A = np.random.ranf(5)\n",
    "print(A)\n",
    "B = np.random.ranf(5)\n",
    "print(B)\n",
    "np.array_equal(A,B)\n",
    "np.array_equal(A,A)\n"
   ]
  },
  {
   "cell_type": "markdown",
   "metadata": {},
   "source": [
    "#### Q17 : Convertir un tableau de float32 de dimension 1 et de taille 10 en un tableau de meme taille et dimension mais de type int32"
   ]
  },
  {
   "cell_type": "code",
   "execution_count": 149,
   "metadata": {},
   "outputs": [
    {
     "name": "stdout",
     "output_type": "stream",
     "text": [
      "int64\n",
      "[3. 4. 2. 3. 4. 9. 9. 1. 1. 7.]\n",
      "[3 4 2 3 4 9 9 1 1 7]\n"
     ]
    }
   ],
   "source": [
    "# m = np.random.ranf(10)\n",
    "m = np.random.randint(0,10, 10)\n",
    "print(m.dtype)\n",
    "m = np.float32(m)\n",
    "print(m)\n",
    "m = np.int32(m)\n",
    "print(m)"
   ]
  },
  {
   "cell_type": "markdown",
   "metadata": {},
   "source": [
    "#### Q18 : Normaliser une matrice random 5x5 \n",
    "La normalisation d'un nombre X consiste à lui retirer sa moyenne et a diviser le tout par son écart type "
   ]
  },
  {
   "cell_type": "code",
   "execution_count": 164,
   "metadata": {},
   "outputs": [
    {
     "data": {
      "text/plain": [
       "array([ 0. , -1. , -0.5,  2. , -1.5,  0. ,  0.5,  1. ,  0.5, -1. ])"
      ]
     },
     "execution_count": 164,
     "metadata": {},
     "output_type": "execute_result"
    }
   ],
   "source": [
    "z = np.random.randint(0,10, 10)\n",
    "z=(z - np.mean (z)) / (np.std(z))\n",
    "z"
   ]
  },
  {
   "cell_type": "markdown",
   "metadata": {},
   "source": [
    "#### Q19 : Créer une matrice random `M` 2x2 et donner sa transposer \n",
    "L'opération de transposition dans une matrice consiste à échanger les lignes et le colonnes. "
   ]
  },
  {
   "cell_type": "code",
   "execution_count": 153,
   "metadata": {},
   "outputs": [
    {
     "name": "stdout",
     "output_type": "stream",
     "text": [
      "[[1 0]\n",
      " [4 7]]\n"
     ]
    },
    {
     "data": {
      "text/plain": [
       "array([[1, 4],\n",
       "       [0, 7]])"
      ]
     },
     "execution_count": 153,
     "metadata": {},
     "output_type": "execute_result"
    }
   ],
   "source": [
    "m = np.random.randint(10, size=(2,2))\n",
    "print(m)\n",
    "np.transpose(m)"
   ]
  },
  {
   "cell_type": "markdown",
   "metadata": {},
   "source": [
    "#### Q20 : Écrire un petit script qui remplace un élément au hasard dans une matrice de dimension NxN"
   ]
  },
  {
   "cell_type": "code",
   "execution_count": 193,
   "metadata": {},
   "outputs": [
    {
     "name": "stdout",
     "output_type": "stream",
     "text": [
      "[[7 7 1]\n",
      " [1 7 8]]\n",
      "******\n",
      "[[ 7  7 11]\n",
      " [ 1  7  8]]\n"
     ]
    }
   ],
   "source": [
    "def randReplace(m):\n",
    "    # print(len(m), len(m[0]))\n",
    "    print(m)\n",
    "    x=np.random.randint(0,len(m[0]))\n",
    "    y=np.random.randint(0,len(m))\n",
    "    m[y][x] = 11\n",
    "    print(\"******\")\n",
    "    print(m)\n",
    "\n",
    "\n",
    "m = np.random.randint(10, size=(2,3))\n",
    "randReplace(m)\n",
    "\n",
    "\n"
   ]
  },
  {
   "cell_type": "markdown",
   "metadata": {},
   "source": [
    "#### Q21 : Considérons une matrice de dimension (5,5,3), écrire un script qui multiplie cette matrice par une matrice de dimension (5,5)"
   ]
  },
  {
   "cell_type": "code",
   "execution_count": 190,
   "metadata": {},
   "outputs": [
    {
     "name": "stdout",
     "output_type": "stream",
     "text": [
      "[[0 9 9 4 7]\n",
      " [2 9 4 3 6]\n",
      " [6 9 9 9 3]\n",
      " [0 8 8 3 5]\n",
      " [3 8 9 5 1]]\n",
      "*******************\n",
      "[[[0]\n",
      "  [2]\n",
      "  [6]\n",
      "  [0]\n",
      "  [3]]\n",
      "\n",
      " [[9]\n",
      "  [9]\n",
      "  [9]\n",
      "  [8]\n",
      "  [8]]\n",
      "\n",
      " [[9]\n",
      "  [4]\n",
      "  [9]\n",
      "  [8]\n",
      "  [9]]\n",
      "\n",
      " [[4]\n",
      "  [3]\n",
      "  [9]\n",
      "  [3]\n",
      "  [5]]\n",
      "\n",
      " [[7]\n",
      "  [6]\n",
      "  [3]\n",
      "  [5]\n",
      "  [1]]]\n",
      "*******************\n",
      "[[[0 0 0]\n",
      "  [2 2 2]\n",
      "  [6 6 6]\n",
      "  [0 0 0]\n",
      "  [3 3 3]]\n",
      "\n",
      " [[9 9 9]\n",
      "  [9 9 9]\n",
      "  [9 9 9]\n",
      "  [8 8 8]\n",
      "  [8 8 8]]\n",
      "\n",
      " [[9 9 9]\n",
      "  [4 4 4]\n",
      "  [9 9 9]\n",
      "  [8 8 8]\n",
      "  [9 9 9]]\n",
      "\n",
      " [[4 4 4]\n",
      "  [3 3 3]\n",
      "  [9 9 9]\n",
      "  [3 3 3]\n",
      "  [5 5 5]]\n",
      "\n",
      " [[7 7 7]\n",
      "  [6 6 6]\n",
      "  [3 3 3]\n",
      "  [5 5 5]\n",
      "  [1 1 1]]]\n",
      "*******************\n",
      "[[[ 0  0  0]\n",
      "  [12  4 10]\n",
      "  [18 12 12]\n",
      "  [ 0  0  0]\n",
      "  [ 0 24 24]]\n",
      "\n",
      " [[27 36 54]\n",
      "  [ 9 72 72]\n",
      "  [54 72  0]\n",
      "  [48 64 64]\n",
      "  [ 0 40  0]]\n",
      "\n",
      " [[27  0 63]\n",
      "  [ 0 16 12]\n",
      "  [ 0 63 72]\n",
      "  [64 32 24]\n",
      "  [27 45  0]]\n",
      "\n",
      " [[ 0 12  0]\n",
      "  [ 9 27 27]\n",
      "  [45 27 18]\n",
      "  [ 3 12  3]\n",
      "  [45 20 25]]\n",
      "\n",
      " [[49 63 35]\n",
      "  [54 18 30]\n",
      "  [15  3 15]\n",
      "  [10 40 45]\n",
      "  [ 7  0  6]]]\n"
     ]
    }
   ],
   "source": [
    "a = np.random.randint(10, size=(5,5,3))\n",
    "b = np.random.randint(10, size=(5,5))\n",
    "print(b)\n",
    "print(\"*******************\")\n",
    "print(np.transpose(np.array([b,])))\n",
    "print(\"*******************\")\n",
    "print(np.transpose(np.array([b,]*len(a[0][0]))))\n",
    "print(\"*******************\")\n",
    "print (a * np.transpose(np.array([b,]*len(a[0][0]))))"
   ]
  }
 ],
 "metadata": {
  "kernelspec": {
   "display_name": "Python 3",
   "language": "python",
   "name": "python3"
  },
  "language_info": {
   "codemirror_mode": {
    "name": "ipython",
    "version": 3
   },
   "file_extension": ".py",
   "mimetype": "text/x-python",
   "name": "python",
   "nbconvert_exporter": "python",
   "pygments_lexer": "ipython3",
   "version": "3.6.9"
  }
 },
 "nbformat": 4,
 "nbformat_minor": 2
}
